{
 "cells": [
  {
   "cell_type": "markdown",
   "metadata": {},
   "source": [
    "# TASK 2\n",
    "# REFERRAL ID:SIRSS2159\n",
    "## FULL NAME : SHEREEN ANTHONY"
   ]
  },
  {
   "cell_type": "code",
   "execution_count": 11,
   "metadata": {},
   "outputs": [
    {
     "name": "stdout",
     "output_type": "stream",
     "text": [
      "hello\n"
     ]
    }
   ],
   "source": [
    "a = lambda str: str.split()[0]\n",
    "str = \"hello world\"\n",
    "print(a(str))"
   ]
  },
  {
   "cell_type": "code",
   "execution_count": 12,
   "metadata": {},
   "outputs": [
    {
     "data": {
      "text/plain": [
       "'The'"
      ]
     },
     "execution_count": 12,
     "metadata": {},
     "output_type": "execute_result"
    }
   ],
   "source": [
    "def splt(s):\n",
    "    return s.split()[0]\n",
    "str = \"The greatest glory in living lies not in never falling, but in rising every time we fall.\"\n",
    "splt(str)"
   ]
  },
  {
   "cell_type": "code",
   "execution_count": 13,
   "metadata": {},
   "outputs": [
    {
     "name": "stdout",
     "output_type": "stream",
     "text": [
      "['Love', 'Hatred']\n"
     ]
    }
   ],
   "source": [
    "lst = ['Love For All', 'Hatred For None']\n",
    "s = list(map(lambda a: a.split()[0],lst))\n",
    "print(s)"
   ]
  },
  {
   "cell_type": "code",
   "execution_count": 14,
   "metadata": {},
   "outputs": [
    {
     "name": "stdout",
     "output_type": "stream",
     "text": [
      "Enter the number: 2\n",
      "[2]\n"
     ]
    }
   ],
   "source": [
    "def prime(a):\n",
    "    fact = []\n",
    "    div = 2\n",
    "    while div <= a:\n",
    "        if a%div == 0:\n",
    "            fact.append(div)\n",
    "            a = a/div\n",
    "        else:\n",
    "            div += 1 \n",
    "    return fact\n",
    "\n",
    "n = input('Enter the number: ')\n",
    "print(prime(int(n)))"
   ]
  },
  {
   "cell_type": "code",
   "execution_count": 15,
   "metadata": {},
   "outputs": [
    {
     "name": "stdout",
     "output_type": "stream",
     "text": [
      "Enter elements: 1\n",
      "Enter elements: 8\n",
      "Enter elements: 7\n",
      "Enter elements: 5\n",
      "All elements:  [1, 8, 7, 5]\n",
      "2nd largest element:  7\n"
     ]
    }
   ],
   "source": [
    "list1 = []\n",
    " \n",
    "def second_largest(l):\n",
    "    new_list = set(l)\n",
    "    new_list.remove(max(new_list))\n",
    "    return max(new_list)\n",
    "\n",
    "for i in range(1, 5):\n",
    "    elmnt = int(input(\"Enter elements: \"))\n",
    "    list1.append(elmnt)\n",
    "    \n",
    "print('All elements: ',list1)\n",
    "print('2nd largest element: ',second_largest(list1))"
   ]
  },
  {
   "cell_type": "code",
   "execution_count": null,
   "metadata": {},
   "outputs": [],
   "source": []
  }
 ],
 "metadata": {
  "kernelspec": {
   "display_name": "Python 3",
   "language": "python",
   "name": "python3"
  },
  "language_info": {
   "codemirror_mode": {
    "name": "ipython",
    "version": 3
   },
   "file_extension": ".py",
   "mimetype": "text/x-python",
   "name": "python",
   "nbconvert_exporter": "python",
   "pygments_lexer": "ipython3",
   "version": "3.7.4"
  }
 },
 "nbformat": 4,
 "nbformat_minor": 2
}
