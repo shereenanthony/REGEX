{
 "cells": [
  {
   "cell_type": "markdown",
   "metadata": {},
   "source": [
    "# TASK 5\n",
    "# REFERRAL ID:SIRSS2159\n",
    "# FULL NAME : SHEREEN ANTHONY"
   ]
  },
  {
   "cell_type": "code",
   "execution_count": 1,
   "metadata": {},
   "outputs": [
    {
     "name": "stdout",
     "output_type": "stream",
     "text": [
      "Sum of all prime numbers: 23\n"
     ]
    }
   ],
   "source": [
    "def findPrime(list1):\n",
    "    s = 0\n",
    "    for num in list1:\n",
    "        i = 2\n",
    "        p = 1\n",
    "        while i <= num / 2:\n",
    "            if num % i == 0:\n",
    "                p = 0\n",
    "                break\n",
    "            i = i + 1\n",
    "        if p == 1:\n",
    "            s = s + num\n",
    "    return s\n",
    "\n",
    "\n",
    "list1 = [20,21,22,23,24]\n",
    "s = findPrime(list1)\n",
    "print(\"Sum of all prime numbers:\", s)"
   ]
  },
  {
   "cell_type": "code",
   "execution_count": 2,
   "metadata": {},
   "outputs": [
    {
     "name": "stdout",
     "output_type": "stream",
     "text": [
      "Original list : [1, 21, 22, 56, 58, 57]\n",
      "Is list strictly increasing ? : True\n"
     ]
    }
   ],
   "source": [
    "test_list = [1, 21,22,56,58,57]\n",
    "  \n",
    "print (\"Original list : \" + str(test_list))\n",
    "  \n",
    "res = bool(lambda test_list: reduce(lambda i, j: j if \n",
    "                 i < j else 9999, test_list) != 9999)\n",
    "\n",
    "print (\"Is list strictly increasing ? : \" + str(res))"
   ]
  },
  {
   "cell_type": "code",
   "execution_count": 3,
   "metadata": {},
   "outputs": [
    {
     "data": {
      "text/plain": [
       "False"
      ]
     },
     "execution_count": 3,
     "metadata": {},
     "output_type": "execute_result"
    }
   ],
   "source": [
    "\n",
    "def expand(l):\n",
    "    difference = abs(l[1] - l[0])\n",
    "    \n",
    "    for i in range(1,len(l)-1):\n",
    "        temp = abs(l[i+1] - l[i])\n",
    "        \n",
    "        if temp < difference:\n",
    "            return False\n",
    "        else:\n",
    "            difference = temp\n",
    "            \n",
    "    return True\n",
    "l=[2,4,5,6,8]\n",
    "expand(l)"
   ]
  },
  {
   "cell_type": "code",
   "execution_count": 4,
   "metadata": {},
   "outputs": [
    {
     "name": "stdout",
     "output_type": "stream",
     "text": [
      "Enter the string :hello\n",
      "All possible words are :\n",
      "hello helol hello helol heoll heoll hlelo hleol hlleo hlloe hloel hlole hlelo hleol hlleo hlloe hloel hlole hoell hoell holel holle holel holle ehllo ehlol ehllo ehlol eholl eholl elhlo elhol ellho elloh elohl elolh elhlo elhol ellho elloh elohl elolh eohll eohll eolhl eollh eolhl eollh lhelo lheol lhleo lhloe lhoel lhole lehlo lehol lelho leloh leohl leolh llheo llhoe lleho lleoh llohe lloeh lohel lohle loehl loelh lolhe loleh lhelo lheol lhleo lhloe lhoel lhole lehlo lehol lelho leloh leohl leolh llheo llhoe lleho lleoh llohe lloeh lohel lohle loehl loelh lolhe loleh ohell ohell ohlel ohlle ohlel ohlle oehll oehll oelhl oellh oelhl oellh olhel olhle olehl olelh ollhe olleh olhel olhle olehl olelh ollhe olleh "
     ]
    }
   ],
   "source": [
    "def permutation(a,b):\n",
    "    if(len(a) == 0):\n",
    "        print(b, end=\" \")\n",
    "        return\n",
    "    for i in range(len(a)):\n",
    "        c = a[i]\n",
    "        d = a[0:i]\n",
    "        e = a[i + 1:]\n",
    "        f = d + e\n",
    "        permutation(f,b+c)\n",
    "        \n",
    "b=\"\"\n",
    "a=input(\"Enter the string :\")\n",
    "print(\"All possible words are :\")\n",
    "permutation(a,b)"
   ]
  },
  {
   "cell_type": "code",
   "execution_count": null,
   "metadata": {},
   "outputs": [],
   "source": []
  }
 ],
 "metadata": {
  "kernelspec": {
   "display_name": "Python 3",
   "language": "python",
   "name": "python3"
  },
  "language_info": {
   "codemirror_mode": {
    "name": "ipython",
    "version": 3
   },
   "file_extension": ".py",
   "mimetype": "text/x-python",
   "name": "python",
   "nbconvert_exporter": "python",
   "pygments_lexer": "ipython3",
   "version": "3.7.4"
  }
 },
 "nbformat": 4,
 "nbformat_minor": 2
}
